{
 "cells": [
  {
   "cell_type": "code",
   "execution_count": 3,
   "metadata": {},
   "outputs": [],
   "source": [
    "import getpass\n",
    "import os\n",
    "\n",
    "if not os.environ.get(\"GROQ_API_KEY\"):\n",
    "  os.environ[\"GROQ_API_KEY\"] = getpass.getpass(\"Enter API key for Groq: \")\n",
    "\n",
    "from langchain.chat_models import init_chat_model\n",
    "\n",
    "model = init_chat_model(\"llama3-8b-8192\", model_provider=\"groq\")"
   ]
  },
  {
   "cell_type": "code",
   "execution_count": 4,
   "metadata": {},
   "outputs": [
    {
     "name": "stdout",
     "output_type": "stream",
     "text": [
      "content='Lagchain is a type of blockchain that is designed to improve the scalability, security, and usability of traditional blockchain networks. The term \"lagchain\" is a portmanteau of \"lag\" and \"chain,\" and it refers to a blockchain that is designed to reduce the latency and latency-related issues that are common in traditional blockchain networks.\\n\\nTraditional blockchain networks are designed to be decentralized, secure, and transparent, but they can be slow and inefficient due to the following reasons:\\n\\n1. **Block size limitations**: Most blockchain networks have a limited block size, which means that only a certain amount of data can be processed in each block. This can lead to congestion and slow transaction processing times.\\n2. **Data fragmentation**: Data is fragmented across multiple nodes and blocks, making it difficult to process and verify transactions in a timely manner.\\n3. **Consensus mechanism**: The consensus mechanism, which is responsible for verifying and validating transactions, can be slow and energy-intensive.\\n\\nLagchain is designed to address these issues by introducing several innovations:\\n\\n1. **Parallel processing**: Lagchain allows for parallel processing of transactions, which means that multiple transactions can be processed simultaneously, reducing the overall latency.\\n2. **Data compression**: Lagchain uses advanced data compression algorithms to reduce the size of the data being processed, making it more efficient and faster.\\n3. **Distributed ledger architecture**: Lagchain uses a distributed ledger architecture, which allows for multiple nodes to work together to process and verify transactions, making it more scalable and secure.\\n4. **Advanced consensus mechanism**: Lagchain uses an advanced consensus mechanism that is designed to be faster and more energy-efficient than traditional consensus mechanisms.\\n\\nThe key benefits of Lagchain include:\\n\\n1. **Faster transaction processing**: Lagchain is designed to process transactions much faster than traditional blockchain networks, making it ideal for applications that require fast and efficient transaction processing.\\n2. **Increased scalability**: Lagchain is designed to handle a much higher volume of transactions than traditional blockchain networks, making it ideal for applications that require high transaction volumes.\\n3. **Improved security**: Lagchain uses advanced security measures, such as data encryption and multi-factor authentication, to ensure that transactions are secure and tamper-proof.\\n\\nOverall, Lagchain is a promising new technology that has the potential to revolutionize the way we think about blockchain networks and their applications.' additional_kwargs={} response_metadata={'token_usage': {'completion_tokens': 473, 'prompt_tokens': 15, 'total_tokens': 488, 'completion_time': 0.394166667, 'prompt_time': 0.002345166, 'queue_time': 0.015948263, 'total_time': 0.396511833}, 'model_name': 'llama3-8b-8192', 'system_fingerprint': 'fp_a97cfe35ae', 'finish_reason': 'stop', 'logprobs': None} id='run-7d3c7245-defb-43a2-95f2-45b706dd3529-0' usage_metadata={'input_tokens': 15, 'output_tokens': 473, 'total_tokens': 488}\n"
     ]
    }
   ],
   "source": [
    "respone = model.invoke(\"Waht is langchain\")\n",
    "print(respone)"
   ]
  },
  {
   "cell_type": "code",
   "execution_count": 6,
   "metadata": {},
   "outputs": [],
   "source": [
    "import os\n",
    "from langchain.agents import *\n",
    "from langchain.chat_models import init_chat_model\n",
    "from langchain.sql_database import SQLDatabase\n",
    "from langchain.agents.agent_toolkits import SQLDatabaseToolkit\n",
    "from langchain.agents import AgentExecutor"
   ]
  },
  {
   "cell_type": "markdown",
   "metadata": {},
   "source": [
    "Connecting to our database"
   ]
  },
  {
   "cell_type": "code",
   "execution_count": 8,
   "metadata": {},
   "outputs": [],
   "source": [
    "db_user = \"root\"\n",
    "db_password = \"12345\"\n",
    "db_host = \"localhost\"\n",
    "db_name = \"pandeyji_eatery\"\n",
    "db = SQLDatabase.from_uri(f\"mysql+pymysql://{db_user}:{db_password}@{db_host}/{db_name}\")"
   ]
  },
  {
   "cell_type": "markdown",
   "metadata": {},
   "source": [
    "set up the LLm,toolkit and agen executer"
   ]
  },
  {
   "cell_type": "code",
   "execution_count": 9,
   "metadata": {},
   "outputs": [],
   "source": [
    "toolkit = SQLDatabaseToolkit(db=db, llm=model)"
   ]
  },
  {
   "cell_type": "markdown",
   "metadata": {},
   "source": [
    "Creating an agent "
   ]
  },
  {
   "cell_type": "code",
   "execution_count": 12,
   "metadata": {},
   "outputs": [],
   "source": [
    "agent_executor = create_sql_agent(\n",
    "  llm = model,\n",
    "  toolkit=toolkit,\n",
    "  \n",
    ")"
   ]
  },
  {
   "cell_type": "markdown",
   "metadata": {},
   "source": [
    "Asking question"
   ]
  },
  {
   "cell_type": "code",
   "execution_count": 14,
   "metadata": {},
   "outputs": [
    {
     "data": {
      "text/plain": [
       "'3\\n\\nExplanation: The query `SELECT COUNT(*) FROM food_items` returns 3, which is the number of items in the food_items table.'"
      ]
     },
     "execution_count": 14,
     "metadata": {},
     "output_type": "execute_result"
    }
   ],
   "source": [
    "agent_executor.run(\"Tell me the number of items in food_items table?\")"
   ]
  },
  {
   "cell_type": "code",
   "execution_count": null,
   "metadata": {},
   "outputs": [],
   "source": []
  }
 ],
 "metadata": {
  "kernelspec": {
   "display_name": "venv",
   "language": "python",
   "name": "python3"
  },
  "language_info": {
   "codemirror_mode": {
    "name": "ipython",
    "version": 3
   },
   "file_extension": ".py",
   "mimetype": "text/x-python",
   "name": "python",
   "nbconvert_exporter": "python",
   "pygments_lexer": "ipython3",
   "version": "3.12.6"
  }
 },
 "nbformat": 4,
 "nbformat_minor": 2
}
